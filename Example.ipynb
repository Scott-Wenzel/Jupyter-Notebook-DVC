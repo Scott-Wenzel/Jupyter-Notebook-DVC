{
 "cells": [
  {
   "cell_type": "markdown",
   "metadata": {},
   "source": [
    "# Example of versioning ML experiments using DVC\n",
    "\n",
    "This notebook aims to be a guideline for versioning your ML projects using DVC, from a Jupyter notebook.\n",
    "\n",
    "This notebook allows you to experiment as much as you like, and when you are in a state that you would like to preserve for future reference as a git commit, use the DVC cells to version all your relevant files. \n",
    "\n",
    "The cells marked with a green markdown box are responsible for creating a snapshot of your raw data, processed data, and trained models.\n",
    "\n",
    "This snapshot is implemented as md5 hashes of the respective files saved as text in the `.dvc` files. The hashes in the .dvc files will be part of the git commit."
   ]
  },
  {
   "cell_type": "code",
   "execution_count": 3,
   "metadata": {},
   "outputs": [
    {
     "name": "stdout",
     "output_type": "stream",
     "text": [
      "Collecting ruamel.yaml\n",
      "  Downloading ruamel.yaml-0.16.10-py2.py3-none-any.whl (111 kB)\n",
      "\u001b[K     |████████████████████████████████| 111 kB 7.5 MB/s eta 0:00:01\n",
      "\u001b[?25hRequirement already satisfied, skipping upgrade: ruamel.yaml.clib>=0.1.2; platform_python_implementation == \"CPython\" and python_version < \"3.9\" in /opt/conda/lib/python3.7/site-packages (from ruamel.yaml) (0.2.0)\n",
      "Installing collected packages: ruamel.yaml\n",
      "  Attempting uninstall: ruamel.yaml\n",
      "    Found existing installation: ruamel.yaml 0.16.6\n",
      "    Uninstalling ruamel.yaml-0.16.6:\n",
      "      Successfully uninstalled ruamel.yaml-0.16.6\n",
      "Successfully installed ruamel.yaml-0.16.10\n"
     ]
    }
   ],
   "source": [
    "!pip install --upgrade ruamel.yaml"
   ]
  },
  {
   "cell_type": "code",
   "execution_count": 8,
   "metadata": {},
   "outputs": [
    {
     "name": "stdout",
     "output_type": "stream",
     "text": [
      "Requirement already satisfied: joblib in /opt/conda/lib/python3.7/site-packages (from -r requirements.txt (line 1)) (0.15.1)\n",
      "Requirement already satisfied: sklearn in /opt/conda/lib/python3.7/site-packages (from -r requirements.txt (line 2)) (0.0)\n",
      "Requirement already satisfied: pandas in /opt/conda/lib/python3.7/site-packages (from -r requirements.txt (line 3)) (1.0.3)\n",
      "Requirement already satisfied: dvc in /opt/conda/lib/python3.7/site-packages (from -r requirements.txt (line 4)) (0.94.0)\n",
      "Requirement already satisfied: scikit-learn in /opt/conda/lib/python3.7/site-packages (from sklearn->-r requirements.txt (line 2)) (0.22.2.post1)\n",
      "Requirement already satisfied: pytz>=2017.2 in /opt/conda/lib/python3.7/site-packages (from pandas->-r requirements.txt (line 3)) (2020.1)\n",
      "Requirement already satisfied: python-dateutil>=2.6.1 in /opt/conda/lib/python3.7/site-packages (from pandas->-r requirements.txt (line 3)) (2.8.1)\n",
      "Requirement already satisfied: numpy>=1.13.3 in /opt/conda/lib/python3.7/site-packages (from pandas->-r requirements.txt (line 3)) (1.18.4)\n",
      "Requirement already satisfied: flufl.lock>=3.2 in /opt/conda/lib/python3.7/site-packages (from dvc->-r requirements.txt (line 4)) (3.2)\n",
      "Requirement already satisfied: nanotime>=0.5.2 in /opt/conda/lib/python3.7/site-packages (from dvc->-r requirements.txt (line 4)) (0.5.2)\n",
      "Requirement already satisfied: funcy>=1.14 in /opt/conda/lib/python3.7/site-packages (from dvc->-r requirements.txt (line 4)) (1.14)\n",
      "Requirement already satisfied: pyasn1>=0.4.1 in /opt/conda/lib/python3.7/site-packages (from dvc->-r requirements.txt (line 4)) (0.4.8)\n",
      "Requirement already satisfied: configobj>=5.0.6 in /opt/conda/lib/python3.7/site-packages (from dvc->-r requirements.txt (line 4)) (5.0.6)\n",
      "Requirement already satisfied: pydot>=1.2.4 in /opt/conda/lib/python3.7/site-packages (from dvc->-r requirements.txt (line 4)) (1.4.1)\n",
      "Requirement already satisfied: humanize>=0.5.1 in /opt/conda/lib/python3.7/site-packages (from dvc->-r requirements.txt (line 4)) (2.4.0)\n",
      "Requirement already satisfied: dpath<3,>=2.0.1 in /opt/conda/lib/python3.7/site-packages (from dvc->-r requirements.txt (line 4)) (2.0.1)\n",
      "Requirement already satisfied: gitpython>3 in /opt/conda/lib/python3.7/site-packages (from dvc->-r requirements.txt (line 4)) (3.1.3)\n",
      "Requirement already satisfied: jsonpath-ng>=1.5.1 in /opt/conda/lib/python3.7/site-packages (from dvc->-r requirements.txt (line 4)) (1.5.1)\n",
      "Requirement already satisfied: zc.lockfile>=1.2.1 in /opt/conda/lib/python3.7/site-packages (from dvc->-r requirements.txt (line 4)) (2.0)\n",
      "Requirement already satisfied: tqdm<5,>=4.45.0 in /opt/conda/lib/python3.7/site-packages (from dvc->-r requirements.txt (line 4)) (4.45.0)\n",
      "Requirement already satisfied: setuptools>=34.0.0 in /opt/conda/lib/python3.7/site-packages (from dvc->-r requirements.txt (line 4)) (46.1.3.post20200325)\n",
      "Requirement already satisfied: distro>=1.3.0 in /opt/conda/lib/python3.7/site-packages (from dvc->-r requirements.txt (line 4)) (1.5.0)\n",
      "Requirement already satisfied: texttable>=0.5.2 in /opt/conda/lib/python3.7/site-packages (from dvc->-r requirements.txt (line 4)) (1.6.2)\n",
      "Requirement already satisfied: requests>=2.22.0 in /opt/conda/lib/python3.7/site-packages (from dvc->-r requirements.txt (line 4)) (2.23.0)\n",
      "Requirement already satisfied: PyYAML<5.4,>=5.1.2 in /opt/conda/lib/python3.7/site-packages (from dvc->-r requirements.txt (line 4)) (5.3.1)\n",
      "Requirement already satisfied: packaging>=19.0 in /opt/conda/lib/python3.7/site-packages (from dvc->-r requirements.txt (line 4)) (20.4)\n",
      "Requirement already satisfied: networkx<2.4,>=2.1 in /opt/conda/lib/python3.7/site-packages (from dvc->-r requirements.txt (line 4)) (2.3)\n",
      "Requirement already satisfied: appdirs>=1.4.3 in /opt/conda/lib/python3.7/site-packages (from dvc->-r requirements.txt (line 4)) (1.4.4)\n",
      "Requirement already satisfied: voluptuous>=0.11.7 in /opt/conda/lib/python3.7/site-packages (from dvc->-r requirements.txt (line 4)) (0.11.7)\n",
      "Requirement already satisfied: ruamel.yaml>=0.16.1 in /opt/conda/lib/python3.7/site-packages (from dvc->-r requirements.txt (line 4)) (0.16.10)\n",
      "Requirement already satisfied: pathspec>=0.6.0 in /opt/conda/lib/python3.7/site-packages (from dvc->-r requirements.txt (line 4)) (0.8.0)\n",
      "Requirement already satisfied: treelib>=1.5.5 in /opt/conda/lib/python3.7/site-packages (from dvc->-r requirements.txt (line 4)) (1.6.1)\n",
      "Requirement already satisfied: colorama>=0.3.9 in /opt/conda/lib/python3.7/site-packages (from dvc->-r requirements.txt (line 4)) (0.4.3)\n",
      "Requirement already satisfied: pygtrie==2.3.2 in /opt/conda/lib/python3.7/site-packages (from dvc->-r requirements.txt (line 4)) (2.3.2)\n",
      "Requirement already satisfied: ply>=3.9 in /opt/conda/lib/python3.7/site-packages (from dvc->-r requirements.txt (line 4)) (3.11)\n",
      "Requirement already satisfied: inflect<4,>=2.1.0 in /opt/conda/lib/python3.7/site-packages (from dvc->-r requirements.txt (line 4)) (3.0.2)\n",
      "Requirement already satisfied: shortuuid>=0.5.0 in /opt/conda/lib/python3.7/site-packages (from dvc->-r requirements.txt (line 4)) (1.0.1)\n",
      "Requirement already satisfied: flatten-json>=0.1.6 in /opt/conda/lib/python3.7/site-packages (from dvc->-r requirements.txt (line 4)) (0.1.7)\n",
      "Requirement already satisfied: grandalf==0.6 in /opt/conda/lib/python3.7/site-packages (from dvc->-r requirements.txt (line 4)) (0.6)\n",
      "Requirement already satisfied: scipy>=0.17.0 in /opt/conda/lib/python3.7/site-packages (from scikit-learn->sklearn->-r requirements.txt (line 2)) (1.4.1)\n",
      "Requirement already satisfied: six>=1.5 in /opt/conda/lib/python3.7/site-packages (from python-dateutil>=2.6.1->pandas->-r requirements.txt (line 3)) (1.14.0)\n",
      "Requirement already satisfied: atpublic in /opt/conda/lib/python3.7/site-packages (from flufl.lock>=3.2->dvc->-r requirements.txt (line 4)) (1.0)\n",
      "Requirement already satisfied: pyparsing>=2.1.4 in /opt/conda/lib/python3.7/site-packages (from pydot>=1.2.4->dvc->-r requirements.txt (line 4)) (2.4.7)\n",
      "Requirement already satisfied: gitdb<5,>=4.0.1 in /opt/conda/lib/python3.7/site-packages (from gitpython>3->dvc->-r requirements.txt (line 4)) (4.0.5)\n",
      "Requirement already satisfied: decorator in /opt/conda/lib/python3.7/site-packages (from jsonpath-ng>=1.5.1->dvc->-r requirements.txt (line 4)) (4.4.2)\n",
      "Requirement already satisfied: chardet<4,>=3.0.2 in /opt/conda/lib/python3.7/site-packages (from requests>=2.22.0->dvc->-r requirements.txt (line 4)) (3.0.4)\n",
      "Requirement already satisfied: certifi>=2017.4.17 in /opt/conda/lib/python3.7/site-packages (from requests>=2.22.0->dvc->-r requirements.txt (line 4)) (2020.4.5.1)\n",
      "Requirement already satisfied: urllib3!=1.25.0,!=1.25.1,<1.26,>=1.21.1 in /opt/conda/lib/python3.7/site-packages (from requests>=2.22.0->dvc->-r requirements.txt (line 4)) (1.25.9)\n",
      "Requirement already satisfied: idna<3,>=2.5 in /opt/conda/lib/python3.7/site-packages (from requests>=2.22.0->dvc->-r requirements.txt (line 4)) (2.9)\n",
      "Requirement already satisfied: ruamel.yaml.clib>=0.1.2; platform_python_implementation == \"CPython\" and python_version < \"3.9\" in /opt/conda/lib/python3.7/site-packages (from ruamel.yaml>=0.16.1->dvc->-r requirements.txt (line 4)) (0.2.0)\n",
      "Requirement already satisfied: future in /opt/conda/lib/python3.7/site-packages (from treelib>=1.5.5->dvc->-r requirements.txt (line 4)) (0.18.2)\n",
      "Requirement already satisfied: importlib-metadata in /opt/conda/lib/python3.7/site-packages (from inflect<4,>=2.1.0->dvc->-r requirements.txt (line 4)) (1.6.0)\n",
      "Requirement already satisfied: smmap<4,>=3.0.1 in /opt/conda/lib/python3.7/site-packages (from gitdb<5,>=4.0.1->gitpython>3->dvc->-r requirements.txt (line 4)) (3.0.4)\n",
      "Requirement already satisfied: zipp>=0.5 in /opt/conda/lib/python3.7/site-packages (from importlib-metadata->inflect<4,>=2.1.0->dvc->-r requirements.txt (line 4)) (3.1.0)\n"
     ]
    }
   ],
   "source": [
    "!pip install -r requirements.txt"
   ]
  },
  {
   "cell_type": "markdown",
   "metadata": {},
   "source": [
    "## Imports and global declarations"
   ]
  },
  {
   "cell_type": "code",
   "execution_count": 9,
   "metadata": {},
   "outputs": [],
   "source": [
    "from sklearn import datasets\n",
    "import sklearn\n",
    "from sklearn import preprocessing\n",
    "from sklearn.externals import joblib\n",
    "from sklearn import metrics\n",
    "from sklearn import model_selection\n",
    "import numpy as np\n",
    "import pickle\n",
    "import pandas as pd\n",
    "from sklearn.linear_model import LinearRegression\n",
    "import json\n",
    "import os"
   ]
  },
  {
   "cell_type": "markdown",
   "metadata": {},
   "source": [
    "<div class=\"alert alert-block alert-success\">\n",
    "<h2>Download and version raw data</h2>\n",
    "</div>"
   ]
  },
  {
   "cell_type": "code",
   "execution_count": 10,
   "metadata": {},
   "outputs": [
    {
     "name": "stderr",
     "output_type": "stream",
     "text": [
      "Downloading Cal. housing from https://ndownloader.figshare.com/files/5976036 to data/raw\n"
     ]
    },
    {
     "name": "stdout",
     "output_type": "stream",
     "text": [
      "\u001b[0m                                                                            "
     ]
    }
   ],
   "source": [
    "raw_data = datasets.fetch_california_housing(data_home=\"data/raw\")\n",
    "# Save the raw input data for reproducibility\n",
    "!dvc commit -f data/raw.dvc"
   ]
  },
  {
   "cell_type": "markdown",
   "metadata": {},
   "source": [
    "## Data preprocessing"
   ]
  },
  {
   "cell_type": "code",
   "execution_count": 11,
   "metadata": {},
   "outputs": [],
   "source": [
    "def to_dataframe(X, y):\n",
    "    return pd.concat([\n",
    "            pd.DataFrame(data=X, columns=raw_data.feature_names),\n",
    "            pd.DataFrame(data=y, columns=['Value'])\n",
    "        ],\n",
    "        axis=1)"
   ]
  },
  {
   "cell_type": "code",
   "execution_count": 12,
   "metadata": {},
   "outputs": [
    {
     "data": {
      "text/html": [
       "<div>\n",
       "<style scoped>\n",
       "    .dataframe tbody tr th:only-of-type {\n",
       "        vertical-align: middle;\n",
       "    }\n",
       "\n",
       "    .dataframe tbody tr th {\n",
       "        vertical-align: top;\n",
       "    }\n",
       "\n",
       "    .dataframe thead th {\n",
       "        text-align: right;\n",
       "    }\n",
       "</style>\n",
       "<table border=\"1\" class=\"dataframe\">\n",
       "  <thead>\n",
       "    <tr style=\"text-align: right;\">\n",
       "      <th></th>\n",
       "      <th>MedInc</th>\n",
       "      <th>HouseAge</th>\n",
       "      <th>AveRooms</th>\n",
       "      <th>AveBedrms</th>\n",
       "      <th>Population</th>\n",
       "      <th>AveOccup</th>\n",
       "      <th>Latitude</th>\n",
       "      <th>Longitude</th>\n",
       "      <th>Value</th>\n",
       "    </tr>\n",
       "  </thead>\n",
       "  <tbody>\n",
       "    <tr>\n",
       "      <th>0</th>\n",
       "      <td>8.3252</td>\n",
       "      <td>41.0</td>\n",
       "      <td>6.984127</td>\n",
       "      <td>1.023810</td>\n",
       "      <td>322.0</td>\n",
       "      <td>2.555556</td>\n",
       "      <td>37.88</td>\n",
       "      <td>-122.23</td>\n",
       "      <td>4.526</td>\n",
       "    </tr>\n",
       "    <tr>\n",
       "      <th>1</th>\n",
       "      <td>8.3014</td>\n",
       "      <td>21.0</td>\n",
       "      <td>6.238137</td>\n",
       "      <td>0.971880</td>\n",
       "      <td>2401.0</td>\n",
       "      <td>2.109842</td>\n",
       "      <td>37.86</td>\n",
       "      <td>-122.22</td>\n",
       "      <td>3.585</td>\n",
       "    </tr>\n",
       "    <tr>\n",
       "      <th>2</th>\n",
       "      <td>7.2574</td>\n",
       "      <td>52.0</td>\n",
       "      <td>8.288136</td>\n",
       "      <td>1.073446</td>\n",
       "      <td>496.0</td>\n",
       "      <td>2.802260</td>\n",
       "      <td>37.85</td>\n",
       "      <td>-122.24</td>\n",
       "      <td>3.521</td>\n",
       "    </tr>\n",
       "    <tr>\n",
       "      <th>3</th>\n",
       "      <td>5.6431</td>\n",
       "      <td>52.0</td>\n",
       "      <td>5.817352</td>\n",
       "      <td>1.073059</td>\n",
       "      <td>558.0</td>\n",
       "      <td>2.547945</td>\n",
       "      <td>37.85</td>\n",
       "      <td>-122.25</td>\n",
       "      <td>3.413</td>\n",
       "    </tr>\n",
       "    <tr>\n",
       "      <th>4</th>\n",
       "      <td>3.8462</td>\n",
       "      <td>52.0</td>\n",
       "      <td>6.281853</td>\n",
       "      <td>1.081081</td>\n",
       "      <td>565.0</td>\n",
       "      <td>2.181467</td>\n",
       "      <td>37.85</td>\n",
       "      <td>-122.25</td>\n",
       "      <td>3.422</td>\n",
       "    </tr>\n",
       "  </tbody>\n",
       "</table>\n",
       "</div>"
      ],
      "text/plain": [
       "   MedInc  HouseAge  AveRooms  AveBedrms  Population  AveOccup  Latitude  \\\n",
       "0  8.3252      41.0  6.984127   1.023810       322.0  2.555556     37.88   \n",
       "1  8.3014      21.0  6.238137   0.971880      2401.0  2.109842     37.86   \n",
       "2  7.2574      52.0  8.288136   1.073446       496.0  2.802260     37.85   \n",
       "3  5.6431      52.0  5.817352   1.073059       558.0  2.547945     37.85   \n",
       "4  3.8462      52.0  6.281853   1.081081       565.0  2.181467     37.85   \n",
       "\n",
       "   Longitude  Value  \n",
       "0    -122.23  4.526  \n",
       "1    -122.22  3.585  \n",
       "2    -122.24  3.521  \n",
       "3    -122.25  3.413  \n",
       "4    -122.25  3.422  "
      ]
     },
     "execution_count": 12,
     "metadata": {},
     "output_type": "execute_result"
    }
   ],
   "source": [
    "raw_df = to_dataframe(raw_data.data, raw_data.target)\n",
    "raw_df.head()"
   ]
  },
  {
   "cell_type": "code",
   "execution_count": 13,
   "metadata": {},
   "outputs": [
    {
     "data": {
      "text/html": [
       "<div>\n",
       "<style scoped>\n",
       "    .dataframe tbody tr th:only-of-type {\n",
       "        vertical-align: middle;\n",
       "    }\n",
       "\n",
       "    .dataframe tbody tr th {\n",
       "        vertical-align: top;\n",
       "    }\n",
       "\n",
       "    .dataframe thead th {\n",
       "        text-align: right;\n",
       "    }\n",
       "</style>\n",
       "<table border=\"1\" class=\"dataframe\">\n",
       "  <thead>\n",
       "    <tr style=\"text-align: right;\">\n",
       "      <th></th>\n",
       "      <th>MedInc</th>\n",
       "      <th>HouseAge</th>\n",
       "      <th>AveRooms</th>\n",
       "      <th>AveBedrms</th>\n",
       "      <th>Population</th>\n",
       "      <th>AveOccup</th>\n",
       "      <th>Latitude</th>\n",
       "      <th>Longitude</th>\n",
       "      <th>Value</th>\n",
       "    </tr>\n",
       "  </thead>\n",
       "  <tbody>\n",
       "    <tr>\n",
       "      <th>count</th>\n",
       "      <td>20640.000000</td>\n",
       "      <td>20640.000000</td>\n",
       "      <td>20640.000000</td>\n",
       "      <td>20640.000000</td>\n",
       "      <td>20640.000000</td>\n",
       "      <td>20640.000000</td>\n",
       "      <td>20640.000000</td>\n",
       "      <td>20640.000000</td>\n",
       "      <td>20640.000000</td>\n",
       "    </tr>\n",
       "    <tr>\n",
       "      <th>mean</th>\n",
       "      <td>3.870671</td>\n",
       "      <td>28.639486</td>\n",
       "      <td>5.429000</td>\n",
       "      <td>1.096675</td>\n",
       "      <td>1425.476744</td>\n",
       "      <td>3.070655</td>\n",
       "      <td>35.631861</td>\n",
       "      <td>-119.569704</td>\n",
       "      <td>2.068558</td>\n",
       "    </tr>\n",
       "    <tr>\n",
       "      <th>std</th>\n",
       "      <td>1.899822</td>\n",
       "      <td>12.585558</td>\n",
       "      <td>2.474173</td>\n",
       "      <td>0.473911</td>\n",
       "      <td>1132.462122</td>\n",
       "      <td>10.386050</td>\n",
       "      <td>2.135952</td>\n",
       "      <td>2.003532</td>\n",
       "      <td>1.153956</td>\n",
       "    </tr>\n",
       "    <tr>\n",
       "      <th>min</th>\n",
       "      <td>0.499900</td>\n",
       "      <td>1.000000</td>\n",
       "      <td>0.846154</td>\n",
       "      <td>0.333333</td>\n",
       "      <td>3.000000</td>\n",
       "      <td>0.692308</td>\n",
       "      <td>32.540000</td>\n",
       "      <td>-124.350000</td>\n",
       "      <td>0.149990</td>\n",
       "    </tr>\n",
       "    <tr>\n",
       "      <th>25%</th>\n",
       "      <td>2.563400</td>\n",
       "      <td>18.000000</td>\n",
       "      <td>4.440716</td>\n",
       "      <td>1.006079</td>\n",
       "      <td>787.000000</td>\n",
       "      <td>2.429741</td>\n",
       "      <td>33.930000</td>\n",
       "      <td>-121.800000</td>\n",
       "      <td>1.196000</td>\n",
       "    </tr>\n",
       "    <tr>\n",
       "      <th>50%</th>\n",
       "      <td>3.534800</td>\n",
       "      <td>29.000000</td>\n",
       "      <td>5.229129</td>\n",
       "      <td>1.048780</td>\n",
       "      <td>1166.000000</td>\n",
       "      <td>2.818116</td>\n",
       "      <td>34.260000</td>\n",
       "      <td>-118.490000</td>\n",
       "      <td>1.797000</td>\n",
       "    </tr>\n",
       "    <tr>\n",
       "      <th>75%</th>\n",
       "      <td>4.743250</td>\n",
       "      <td>37.000000</td>\n",
       "      <td>6.052381</td>\n",
       "      <td>1.099526</td>\n",
       "      <td>1725.000000</td>\n",
       "      <td>3.282261</td>\n",
       "      <td>37.710000</td>\n",
       "      <td>-118.010000</td>\n",
       "      <td>2.647250</td>\n",
       "    </tr>\n",
       "    <tr>\n",
       "      <th>max</th>\n",
       "      <td>15.000100</td>\n",
       "      <td>52.000000</td>\n",
       "      <td>141.909091</td>\n",
       "      <td>34.066667</td>\n",
       "      <td>35682.000000</td>\n",
       "      <td>1243.333333</td>\n",
       "      <td>41.950000</td>\n",
       "      <td>-114.310000</td>\n",
       "      <td>5.000010</td>\n",
       "    </tr>\n",
       "  </tbody>\n",
       "</table>\n",
       "</div>"
      ],
      "text/plain": [
       "             MedInc      HouseAge      AveRooms     AveBedrms    Population  \\\n",
       "count  20640.000000  20640.000000  20640.000000  20640.000000  20640.000000   \n",
       "mean       3.870671     28.639486      5.429000      1.096675   1425.476744   \n",
       "std        1.899822     12.585558      2.474173      0.473911   1132.462122   \n",
       "min        0.499900      1.000000      0.846154      0.333333      3.000000   \n",
       "25%        2.563400     18.000000      4.440716      1.006079    787.000000   \n",
       "50%        3.534800     29.000000      5.229129      1.048780   1166.000000   \n",
       "75%        4.743250     37.000000      6.052381      1.099526   1725.000000   \n",
       "max       15.000100     52.000000    141.909091     34.066667  35682.000000   \n",
       "\n",
       "           AveOccup      Latitude     Longitude         Value  \n",
       "count  20640.000000  20640.000000  20640.000000  20640.000000  \n",
       "mean       3.070655     35.631861   -119.569704      2.068558  \n",
       "std       10.386050      2.135952      2.003532      1.153956  \n",
       "min        0.692308     32.540000   -124.350000      0.149990  \n",
       "25%        2.429741     33.930000   -121.800000      1.196000  \n",
       "50%        2.818116     34.260000   -118.490000      1.797000  \n",
       "75%        3.282261     37.710000   -118.010000      2.647250  \n",
       "max     1243.333333     41.950000   -114.310000      5.000010  "
      ]
     },
     "execution_count": 13,
     "metadata": {},
     "output_type": "execute_result"
    }
   ],
   "source": [
    "raw_df.describe()"
   ]
  },
  {
   "cell_type": "markdown",
   "metadata": {},
   "source": [
    "### Test train split"
   ]
  },
  {
   "cell_type": "code",
   "execution_count": 14,
   "metadata": {},
   "outputs": [],
   "source": [
    "train_X, test_X, train_y, test_y = model_selection.train_test_split(raw_df[raw_df.columns[:-1]], raw_df['Value'])"
   ]
  },
  {
   "cell_type": "code",
   "execution_count": 15,
   "metadata": {},
   "outputs": [
    {
     "data": {
      "text/html": [
       "<div>\n",
       "<style scoped>\n",
       "    .dataframe tbody tr th:only-of-type {\n",
       "        vertical-align: middle;\n",
       "    }\n",
       "\n",
       "    .dataframe tbody tr th {\n",
       "        vertical-align: top;\n",
       "    }\n",
       "\n",
       "    .dataframe thead th {\n",
       "        text-align: right;\n",
       "    }\n",
       "</style>\n",
       "<table border=\"1\" class=\"dataframe\">\n",
       "  <thead>\n",
       "    <tr style=\"text-align: right;\">\n",
       "      <th></th>\n",
       "      <th>MedInc</th>\n",
       "      <th>HouseAge</th>\n",
       "      <th>AveRooms</th>\n",
       "      <th>AveBedrms</th>\n",
       "      <th>Population</th>\n",
       "      <th>AveOccup</th>\n",
       "      <th>Latitude</th>\n",
       "      <th>Longitude</th>\n",
       "    </tr>\n",
       "  </thead>\n",
       "  <tbody>\n",
       "    <tr>\n",
       "      <th>4099</th>\n",
       "      <td>3.5714</td>\n",
       "      <td>8.0</td>\n",
       "      <td>3.105599</td>\n",
       "      <td>1.105599</td>\n",
       "      <td>2138.0</td>\n",
       "      <td>1.515237</td>\n",
       "      <td>34.14</td>\n",
       "      <td>-118.37</td>\n",
       "    </tr>\n",
       "    <tr>\n",
       "      <th>5990</th>\n",
       "      <td>5.8891</td>\n",
       "      <td>37.0</td>\n",
       "      <td>6.522642</td>\n",
       "      <td>1.026415</td>\n",
       "      <td>1344.0</td>\n",
       "      <td>2.535849</td>\n",
       "      <td>34.10</td>\n",
       "      <td>-117.73</td>\n",
       "    </tr>\n",
       "    <tr>\n",
       "      <th>253</th>\n",
       "      <td>2.6765</td>\n",
       "      <td>52.0</td>\n",
       "      <td>5.000000</td>\n",
       "      <td>1.026846</td>\n",
       "      <td>473.0</td>\n",
       "      <td>3.174497</td>\n",
       "      <td>37.77</td>\n",
       "      <td>-122.21</td>\n",
       "    </tr>\n",
       "    <tr>\n",
       "      <th>29</th>\n",
       "      <td>1.6875</td>\n",
       "      <td>52.0</td>\n",
       "      <td>4.703226</td>\n",
       "      <td>1.032258</td>\n",
       "      <td>395.0</td>\n",
       "      <td>2.548387</td>\n",
       "      <td>37.84</td>\n",
       "      <td>-122.28</td>\n",
       "    </tr>\n",
       "    <tr>\n",
       "      <th>19988</th>\n",
       "      <td>3.4231</td>\n",
       "      <td>15.0</td>\n",
       "      <td>5.442509</td>\n",
       "      <td>0.958188</td>\n",
       "      <td>961.0</td>\n",
       "      <td>3.348432</td>\n",
       "      <td>36.20</td>\n",
       "      <td>-119.32</td>\n",
       "    </tr>\n",
       "  </tbody>\n",
       "</table>\n",
       "</div>"
      ],
      "text/plain": [
       "       MedInc  HouseAge  AveRooms  AveBedrms  Population  AveOccup  Latitude  \\\n",
       "4099   3.5714       8.0  3.105599   1.105599      2138.0  1.515237     34.14   \n",
       "5990   5.8891      37.0  6.522642   1.026415      1344.0  2.535849     34.10   \n",
       "253    2.6765      52.0  5.000000   1.026846       473.0  3.174497     37.77   \n",
       "29     1.6875      52.0  4.703226   1.032258       395.0  2.548387     37.84   \n",
       "19988  3.4231      15.0  5.442509   0.958188       961.0  3.348432     36.20   \n",
       "\n",
       "       Longitude  \n",
       "4099     -118.37  \n",
       "5990     -117.73  \n",
       "253      -122.21  \n",
       "29       -122.28  \n",
       "19988    -119.32  "
      ]
     },
     "execution_count": 15,
     "metadata": {},
     "output_type": "execute_result"
    }
   ],
   "source": [
    "train_X.head()"
   ]
  },
  {
   "cell_type": "markdown",
   "metadata": {},
   "source": [
    "### Normalize feature columns by training data only"
   ]
  },
  {
   "cell_type": "code",
   "execution_count": 16,
   "metadata": {},
   "outputs": [
    {
     "data": {
      "text/html": [
       "<div>\n",
       "<style scoped>\n",
       "    .dataframe tbody tr th:only-of-type {\n",
       "        vertical-align: middle;\n",
       "    }\n",
       "\n",
       "    .dataframe tbody tr th {\n",
       "        vertical-align: top;\n",
       "    }\n",
       "\n",
       "    .dataframe thead th {\n",
       "        text-align: right;\n",
       "    }\n",
       "</style>\n",
       "<table border=\"1\" class=\"dataframe\">\n",
       "  <thead>\n",
       "    <tr style=\"text-align: right;\">\n",
       "      <th></th>\n",
       "      <th>MedInc</th>\n",
       "      <th>HouseAge</th>\n",
       "      <th>AveRooms</th>\n",
       "      <th>AveBedrms</th>\n",
       "      <th>Population</th>\n",
       "      <th>AveOccup</th>\n",
       "      <th>Latitude</th>\n",
       "      <th>Longitude</th>\n",
       "    </tr>\n",
       "  </thead>\n",
       "  <tbody>\n",
       "    <tr>\n",
       "      <th>4099</th>\n",
       "      <td>-0.153975</td>\n",
       "      <td>-1.642304</td>\n",
       "      <td>-1.039540</td>\n",
       "      <td>0.027355</td>\n",
       "      <td>0.678076</td>\n",
       "      <td>-1.161530</td>\n",
       "      <td>-0.696645</td>\n",
       "      <td>0.597222</td>\n",
       "    </tr>\n",
       "    <tr>\n",
       "      <th>5990</th>\n",
       "      <td>1.067067</td>\n",
       "      <td>0.667823</td>\n",
       "      <td>0.501218</td>\n",
       "      <td>-0.153383</td>\n",
       "      <td>-0.063364</td>\n",
       "      <td>-0.336056</td>\n",
       "      <td>-0.715306</td>\n",
       "      <td>0.916197</td>\n",
       "    </tr>\n",
       "    <tr>\n",
       "      <th>253</th>\n",
       "      <td>-0.625438</td>\n",
       "      <td>1.862716</td>\n",
       "      <td>-0.185347</td>\n",
       "      <td>-0.152400</td>\n",
       "      <td>-0.876707</td>\n",
       "      <td>0.180484</td>\n",
       "      <td>0.996890</td>\n",
       "      <td>-1.316627</td>\n",
       "    </tr>\n",
       "    <tr>\n",
       "      <th>29</th>\n",
       "      <td>-1.146476</td>\n",
       "      <td>1.862716</td>\n",
       "      <td>-0.319164</td>\n",
       "      <td>-0.140046</td>\n",
       "      <td>-0.949543</td>\n",
       "      <td>-0.325915</td>\n",
       "      <td>1.029547</td>\n",
       "      <td>-1.351515</td>\n",
       "    </tr>\n",
       "    <tr>\n",
       "      <th>19988</th>\n",
       "      <td>-0.232104</td>\n",
       "      <td>-1.084687</td>\n",
       "      <td>0.014182</td>\n",
       "      <td>-0.309111</td>\n",
       "      <td>-0.421011</td>\n",
       "      <td>0.321164</td>\n",
       "      <td>0.264424</td>\n",
       "      <td>0.123744</td>\n",
       "    </tr>\n",
       "  </tbody>\n",
       "</table>\n",
       "</div>"
      ],
      "text/plain": [
       "         MedInc  HouseAge  AveRooms  AveBedrms  Population  AveOccup  \\\n",
       "4099  -0.153975 -1.642304 -1.039540   0.027355    0.678076 -1.161530   \n",
       "5990   1.067067  0.667823  0.501218  -0.153383   -0.063364 -0.336056   \n",
       "253   -0.625438  1.862716 -0.185347  -0.152400   -0.876707  0.180484   \n",
       "29    -1.146476  1.862716 -0.319164  -0.140046   -0.949543 -0.325915   \n",
       "19988 -0.232104 -1.084687  0.014182  -0.309111   -0.421011  0.321164   \n",
       "\n",
       "       Latitude  Longitude  \n",
       "4099  -0.696645   0.597222  \n",
       "5990  -0.715306   0.916197  \n",
       "253    0.996890  -1.316627  \n",
       "29     1.029547  -1.351515  \n",
       "19988  0.264424   0.123744  "
      ]
     },
     "execution_count": 16,
     "metadata": {},
     "output_type": "execute_result"
    }
   ],
   "source": [
    "scaler = preprocessing.StandardScaler()\n",
    "train_X_scaled = pd.DataFrame(scaler.fit_transform(train_X), index=train_X.index, columns=train_X.columns)\n",
    "train_X_scaled.head()"
   ]
  },
  {
   "cell_type": "code",
   "execution_count": 17,
   "metadata": {},
   "outputs": [
    {
     "data": {
      "text/html": [
       "<div>\n",
       "<style scoped>\n",
       "    .dataframe tbody tr th:only-of-type {\n",
       "        vertical-align: middle;\n",
       "    }\n",
       "\n",
       "    .dataframe tbody tr th {\n",
       "        vertical-align: top;\n",
       "    }\n",
       "\n",
       "    .dataframe thead th {\n",
       "        text-align: right;\n",
       "    }\n",
       "</style>\n",
       "<table border=\"1\" class=\"dataframe\">\n",
       "  <thead>\n",
       "    <tr style=\"text-align: right;\">\n",
       "      <th></th>\n",
       "      <th>MedInc</th>\n",
       "      <th>HouseAge</th>\n",
       "      <th>AveRooms</th>\n",
       "      <th>AveBedrms</th>\n",
       "      <th>Population</th>\n",
       "      <th>AveOccup</th>\n",
       "      <th>Latitude</th>\n",
       "      <th>Longitude</th>\n",
       "    </tr>\n",
       "  </thead>\n",
       "  <tbody>\n",
       "    <tr>\n",
       "      <th>15118</th>\n",
       "      <td>-0.229207</td>\n",
       "      <td>0.189866</td>\n",
       "      <td>0.111352</td>\n",
       "      <td>-0.075341</td>\n",
       "      <td>-0.616176</td>\n",
       "      <td>0.245928</td>\n",
       "      <td>-1.303144</td>\n",
       "      <td>1.304947</td>\n",
       "    </tr>\n",
       "    <tr>\n",
       "      <th>10400</th>\n",
       "      <td>0.670308</td>\n",
       "      <td>-1.084687</td>\n",
       "      <td>1.828690</td>\n",
       "      <td>0.648606</td>\n",
       "      <td>-1.194200</td>\n",
       "      <td>0.003404</td>\n",
       "      <td>-0.985898</td>\n",
       "      <td>1.005909</td>\n",
       "    </tr>\n",
       "    <tr>\n",
       "      <th>6472</th>\n",
       "      <td>0.224502</td>\n",
       "      <td>0.906802</td>\n",
       "      <td>-0.083953</td>\n",
       "      <td>-0.147253</td>\n",
       "      <td>-0.276271</td>\n",
       "      <td>0.000836</td>\n",
       "      <td>-0.719972</td>\n",
       "      <td>0.751725</td>\n",
       "    </tr>\n",
       "    <tr>\n",
       "      <th>14036</th>\n",
       "      <td>-0.833642</td>\n",
       "      <td>0.030546</td>\n",
       "      <td>-0.885872</td>\n",
       "      <td>-0.229721</td>\n",
       "      <td>-0.382725</td>\n",
       "      <td>-0.962769</td>\n",
       "      <td>-1.345133</td>\n",
       "      <td>1.210252</td>\n",
       "    </tr>\n",
       "    <tr>\n",
       "      <th>5935</th>\n",
       "      <td>2.328095</td>\n",
       "      <td>-0.367751</td>\n",
       "      <td>1.375218</td>\n",
       "      <td>-0.025427</td>\n",
       "      <td>0.606173</td>\n",
       "      <td>0.067939</td>\n",
       "      <td>-0.691979</td>\n",
       "      <td>0.846421</td>\n",
       "    </tr>\n",
       "  </tbody>\n",
       "</table>\n",
       "</div>"
      ],
      "text/plain": [
       "         MedInc  HouseAge  AveRooms  AveBedrms  Population  AveOccup  \\\n",
       "15118 -0.229207  0.189866  0.111352  -0.075341   -0.616176  0.245928   \n",
       "10400  0.670308 -1.084687  1.828690   0.648606   -1.194200  0.003404   \n",
       "6472   0.224502  0.906802 -0.083953  -0.147253   -0.276271  0.000836   \n",
       "14036 -0.833642  0.030546 -0.885872  -0.229721   -0.382725 -0.962769   \n",
       "5935   2.328095 -0.367751  1.375218  -0.025427    0.606173  0.067939   \n",
       "\n",
       "       Latitude  Longitude  \n",
       "15118 -1.303144   1.304947  \n",
       "10400 -0.985898   1.005909  \n",
       "6472  -0.719972   0.751725  \n",
       "14036 -1.345133   1.210252  \n",
       "5935  -0.691979   0.846421  "
      ]
     },
     "execution_count": 17,
     "metadata": {},
     "output_type": "execute_result"
    }
   ],
   "source": [
    "test_X_scaled = pd.DataFrame(scaler.transform(test_X), index=test_X.index, columns=test_X.columns)\n",
    "test_X_scaled.head()"
   ]
  },
  {
   "cell_type": "code",
   "execution_count": 18,
   "metadata": {},
   "outputs": [],
   "source": [
    "train_df = pd.concat([train_X_scaled, train_y], axis=1)\n",
    "test_df = pd.concat([test_X_scaled, test_y], axis=1)"
   ]
  },
  {
   "cell_type": "markdown",
   "metadata": {},
   "source": [
    "<div class=\"alert alert-block alert-success\">\n",
    "<h2>Optional: Version the processed data with DVC for efficiency and/or reproducibility</h2>\n",
    "</div>"
   ]
  },
  {
   "cell_type": "code",
   "execution_count": 19,
   "metadata": {},
   "outputs": [
    {
     "name": "stdout",
     "output_type": "stream",
     "text": [
      "\u001b[0m                                                                            "
     ]
    }
   ],
   "source": [
    "os.makedirs('data/processed/')\n",
    "train_df.to_csv('data/processed/california_households_train.csv', index_label='Index')\n",
    "test_df.to_csv('data/processed/california_households_test.csv', index_label='Index')\n",
    "joblib.dump(scaler, 'data/processed/california_households_scaler.pkl')\n",
    "!dvc commit -f process_data.dvc"
   ]
  },
  {
   "cell_type": "markdown",
   "metadata": {},
   "source": [
    "### Use this cell to reload processed data, after switching branches"
   ]
  },
  {
   "cell_type": "code",
   "execution_count": 20,
   "metadata": {},
   "outputs": [],
   "source": [
    "train_df = pd.read_csv('data/processed/california_households_train.csv', index_col=0)\n",
    "test_df = pd.read_csv('data/processed/california_households_train.csv', index_col=0)\n",
    "scaler = joblib.load('data/processed/california_households_scaler.pkl')"
   ]
  },
  {
   "cell_type": "markdown",
   "metadata": {},
   "source": [
    "## Training"
   ]
  },
  {
   "cell_type": "code",
   "execution_count": 21,
   "metadata": {},
   "outputs": [
    {
     "data": {
      "text/plain": [
       "LinearRegression(copy_X=True, fit_intercept=True, n_jobs=None, normalize=False)"
      ]
     },
     "execution_count": 21,
     "metadata": {},
     "output_type": "execute_result"
    }
   ],
   "source": [
    "model = LinearRegression()\n",
    "X = train_df[train_df.columns[:-1]]\n",
    "y = train_df['Value']\n",
    "model.fit(X, y)"
   ]
  },
  {
   "cell_type": "markdown",
   "metadata": {},
   "source": [
    "<div class=\"alert alert-block alert-success\">\n",
    "<h2>Save the trained model for reproducibility</h2>\n",
    "</div>"
   ]
  },
  {
   "cell_type": "code",
   "execution_count": 22,
   "metadata": {},
   "outputs": [
    {
     "name": "stdout",
     "output_type": "stream",
     "text": [
      "\u001b[0m                                                                            "
     ]
    }
   ],
   "source": [
    "os.makedirs('models')\n",
    "joblib.dump(model, 'models/california_households.pkl')\n",
    "!dvc commit -f models.dvc"
   ]
  },
  {
   "cell_type": "markdown",
   "metadata": {},
   "source": [
    "### Use this cell to reload the model, after switching branches"
   ]
  },
  {
   "cell_type": "code",
   "execution_count": 23,
   "metadata": {},
   "outputs": [],
   "source": [
    "model = joblib.load('models/california_households.pkl')"
   ]
  },
  {
   "cell_type": "markdown",
   "metadata": {},
   "source": [
    "## Evaluate the model"
   ]
  },
  {
   "cell_type": "code",
   "execution_count": 24,
   "metadata": {},
   "outputs": [
    {
     "data": {
      "text/html": [
       "<div>\n",
       "<style scoped>\n",
       "    .dataframe tbody tr th:only-of-type {\n",
       "        vertical-align: middle;\n",
       "    }\n",
       "\n",
       "    .dataframe tbody tr th {\n",
       "        vertical-align: top;\n",
       "    }\n",
       "\n",
       "    .dataframe thead th {\n",
       "        text-align: right;\n",
       "    }\n",
       "</style>\n",
       "<table border=\"1\" class=\"dataframe\">\n",
       "  <thead>\n",
       "    <tr style=\"text-align: right;\">\n",
       "      <th></th>\n",
       "      <th>R2</th>\n",
       "      <th>MAE</th>\n",
       "      <th>MSE</th>\n",
       "      <th>median_absolute_error</th>\n",
       "      <th>loss</th>\n",
       "    </tr>\n",
       "  </thead>\n",
       "  <tbody>\n",
       "    <tr>\n",
       "      <th>0</th>\n",
       "      <td>0.625872</td>\n",
       "      <td>0.511748</td>\n",
       "      <td>0.499559</td>\n",
       "      <td>0.392732</td>\n",
       "      <td>0.499559</td>\n",
       "    </tr>\n",
       "  </tbody>\n",
       "</table>\n",
       "</div>"
      ],
      "text/plain": [
       "         R2       MAE       MSE  median_absolute_error      loss\n",
       "0  0.625872  0.511748  0.499559               0.392732  0.499559"
      ]
     },
     "execution_count": 24,
     "metadata": {},
     "output_type": "execute_result"
    }
   ],
   "source": [
    "predictions = model.predict(test_df[test_df.columns[:-1]])\n",
    "truth = test_df['Value']\n",
    "metrics_dict = {}\n",
    "metrics_dict['R2'] = metrics.r2_score(truth, predictions)\n",
    "metrics_dict['MAE'] = metrics.mean_absolute_error(truth, predictions)\n",
    "metrics_dict['MSE'] = metrics.mean_squared_error(truth, predictions)\n",
    "metrics_dict['median_absolute_error'] = metrics.median_absolute_error(truth, predictions)\n",
    "metrics_dict['loss'] = metrics_dict['MSE']\n",
    "pd.DataFrame(metrics_dict, index=[0])"
   ]
  },
  {
   "cell_type": "markdown",
   "metadata": {},
   "source": [
    "<div class=\"alert alert-block alert-success\">\n",
    "<h2>Save the computed metrics for easy display in DVC and DAGsHub</h2>\n",
    "</div>"
   ]
  },
  {
   "cell_type": "code",
   "execution_count": 25,
   "metadata": {},
   "outputs": [
    {
     "name": "stdout",
     "output_type": "stream",
     "text": [
      "Output 'metrics/metrics.json' doesn't use cache. Skipping saving.       \n",
      "\u001b[0m"
     ]
    }
   ],
   "source": [
    "with open('metrics/metrics.json', 'w') as f:\n",
    "    json.dump(metrics_dict, f, indent=2)\n",
    "!dvc commit -f eval.dvc"
   ]
  },
  {
   "cell_type": "markdown",
   "metadata": {},
   "source": [
    "<div class=\"alert alert-block alert-success\">\n",
    "<h2>Versioning section - use the following cells to create a full commit of your current state</h2>\n",
    "</div>"
   ]
  },
  {
   "cell_type": "markdown",
   "metadata": {},
   "source": [
    "### Make sure all data and models are committed to DVC\n",
    "The output of the following cell should be: `Pipeline is up to date. Nothing to reproduce.`\n",
    "\n",
    "If you get something else, then maybe you forgot to `dvc commit` earlier in the notebook.\n",
    "We recommend to make sure that the current contents in the data and models directories are to your liking,\n",
    "and if so, use the commit cell below to automatically commit all current files to DVC."
   ]
  },
  {
   "cell_type": "code",
   "execution_count": 30,
   "metadata": {},
   "outputs": [
    {
     "name": "stdout",
     "output_type": "stream",
     "text": [
      ".ipynb_checkpoints/models-checkpoint.dvc:                               \n",
      "\tchanged deps:\n",
      "\t\tdeleted:            .ipynb_checkpoints/data/processed\n",
      "\tchanged outs:\n",
      "\t\tdeleted:            .ipynb_checkpoints/models\n",
      "\u001b[0m"
     ]
    }
   ],
   "source": [
    "!dvc status"
   ]
  },
  {
   "cell_type": "code",
   "execution_count": 29,
   "metadata": {},
   "outputs": [
    {
     "name": "stdout",
     "output_type": "stream",
     "text": [
      "\u001b[31mERROR\u001b[39m: failed to commit - dependency '.ipynb_checkpoints/data/processed' does not exist\n",
      "\n",
      "\u001b[33mHaving any troubles?\u001b[39m Hit us up at \u001b[34mhttps://dvc.org/support\u001b[39m, we are always happy to help!\n",
      "\u001b[0m"
     ]
    }
   ],
   "source": [
    "# Use this if dvc status is not up-to-date and you're sure the current state is OK.\n",
    "!dvc commit -f"
   ]
  },
  {
   "cell_type": "code",
   "execution_count": null,
   "metadata": {},
   "outputs": [],
   "source": []
  }
 ],
 "metadata": {
  "kernelspec": {
   "display_name": "Python 3",
   "language": "python",
   "name": "python3"
  },
  "language_info": {
   "codemirror_mode": {
    "name": "ipython",
    "version": 3
   },
   "file_extension": ".py",
   "mimetype": "text/x-python",
   "name": "python",
   "nbconvert_exporter": "python",
   "pygments_lexer": "ipython3",
   "version": "3.7.6"
  }
 },
 "nbformat": 4,
 "nbformat_minor": 4
}
